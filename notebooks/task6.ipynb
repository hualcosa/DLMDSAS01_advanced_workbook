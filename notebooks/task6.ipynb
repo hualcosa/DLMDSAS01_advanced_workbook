{
 "cells": [
  {
   "cell_type": "code",
   "execution_count": 2,
   "metadata": {},
   "outputs": [
    {
     "name": "stdout",
     "output_type": "stream",
     "text": [
      "The posterior mean is 3.359806558749601\n"
     ]
    }
   ],
   "source": [
    "import numpy as np\n",
    "from scipy.integrate import quad\n",
    "\n",
    "def posterior_density(theta):\n",
    "    return theta**12 * np.exp(-36 * theta - 383 / theta)\n",
    "\n",
    "# Compute the normalization constant\n",
    "C, _ = quad(posterior_density, 0, np.inf)\n",
    "\n",
    "# Compute the posterior mean\n",
    "def theta_times_posterior(theta):\n",
    "    return theta * posterior_density(theta)\n",
    "\n",
    "numerator, _ = quad(theta_times_posterior, 0, np.inf)\n",
    "posterior_mean = numerator / C\n",
    "\n",
    "print(f\"The posterior mean is {posterior_mean}\")"
   ]
  },
  {
   "cell_type": "code",
   "execution_count": null,
   "metadata": {},
   "outputs": [],
   "source": []
  }
 ],
 "metadata": {
  "kernelspec": {
   "display_name": "base",
   "language": "python",
   "name": "python3"
  },
  "language_info": {
   "codemirror_mode": {
    "name": "ipython",
    "version": 3
   },
   "file_extension": ".py",
   "mimetype": "text/x-python",
   "name": "python",
   "nbconvert_exporter": "python",
   "pygments_lexer": "ipython3",
   "version": "3.10.9"
  }
 },
 "nbformat": 4,
 "nbformat_minor": 2
}
